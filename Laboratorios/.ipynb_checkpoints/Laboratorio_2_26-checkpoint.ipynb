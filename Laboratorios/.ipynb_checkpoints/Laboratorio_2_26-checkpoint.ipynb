{
 "cells": [
  {
   "cell_type": "markdown",
   "metadata": {},
   "source": [
    "<img src=\"Archivos/miia.jpg\" width=800x>\n",
    "\n",
    "# Laboratorio 2\n",
    "\n",
    "## Hito: desarrollo de una herramienta analítica usando paquetes especializados para análisis de datos en Python\n",
    "\n",
    "Este laboratorio corresponde al 34% de la calificación total del curso y su entrega está planteada para el final de la semana 8. Su objetivo es poner en práctica las competencias adquiridas sobre el uso de los paquetes Pandas, Seaborn y Scikit Learn, entre otros, para hacer exploración, análisis descriptivo, y abordar preguntas de negocio para un caso basado en datos reales. \n",
    "\n",
    "Especificamente, al desarrollar este laboratorio pondrás a prueba tus habilidades para:\n",
    "\n",
    "1. Identificar y abordar una pregunta de negocio a partir de un contexto dado.\n",
    "2. Cargar datos desde archivos utilizando métodos de Pandas.\n",
    "3. Explorar, manejar, limpiar y agregar DataFrames.\n",
    "5. Implementar análisis combinando métricas descriptivas, visualización, filtrado y agrupación.\n",
    "6. Implementar análisis basado en modelos estadísticos o de machine learning.\n",
    "7. Utilizar paquetes como ipywidgets o panel para agregar interactividad a los análisis de manera sencilla.\n",
    "\n",
    "Te recomendamos leer por completo el enunciado del laboratorio antes de comenzar, de forma que tengas claro el propósito completo de la actividad, y puedas desarrollar tu solución apuntando a él en cada paso."
   ]
  },
  {
   "cell_type": "markdown",
   "metadata": {},
   "source": [
    "##  Contexto: *Desigualdad y factores de éxito en Pruebas \"Saber 11\" (Colombia)*\n",
    "\n",
    "El ICFES es el Instituto Colombiano para el Fomento de la Educación Superior y está adscrito al Ministerio de Educación a nivel nacional. Como parte de sus funciones, el ICFES administra las pruebas *Saber 11*, las cuales evalúan a todos los estudiantes del país al final de su educación secundaria. El examen contiene preguntas que evalúan una variedad de áreas del conocimiento (p.ej., matemáticas, ciencias naturales), y se lleva a cabo dos veces al año, respondiendo a los diferentes calendarios académicos que siguen las instituciones educativas. Al momento de inscribirse a las pruebas, los estudiantes deben llenar un formulario que recoge información socio-demográfica y relacionada con la institución a la que pertenecen, con el fin de obtener evidencia respecto al desempeño de los estudiantes en la prueba según sus condiciones particulares.\n",
    "\n",
    "<img src=\"Archivos/saberpro.png\" width=700x>\n",
    "\n",
    "Al igual que otros países de la región, Colombia tiene grandes retos en términos de desigualdad, particularmente en el contexto de educación primaria y secundaria. Por esta razón, para el Estado colombiano es muy valioso el amplio registro de datos que el ICFES genera alrededor de las Pruebas Saber 11, pues con ellos se pueden generar análisis sobre la calidad de la educación en el país y eventualmente dar lugar a recomendaciones sobre políticas públicas. En particular, la problemática a abordar en este caso de estudio es *desigualdad y factores de éxito en las pruebas Saber 11*. \n",
    "\n",
    "Los objetivos de este caso de estudio son:\n",
    "\n",
    "* Entender el contenido de los archivos de datos proporcionados sobre las pruebas Saber11, generar un reporte acerca de sus características principales, e identificar qué partes de dicho contenido serán relevantes para el análisis.\n",
    "* Identificar características de las variables de interés y relaciones entre ellas, por ejemplo, a través de agrupación, visualizaciones, y descriptivos en general.\n",
    "* Abordar preguntas de negocio relacionadas con la problemática planteada, particularmente con respecto a los factores que puedan incidir significativamente en el puntaje de una persona que presenta la prueba; especialmente aquellos que se relacionen con mal desempeño.\n",
    "* Generar una herramienta sencilla que permita a un usuario interactuar con alguno de los análisis realizados de forma relevante en el contexto del problema."
   ]
  },
  {
   "cell_type": "markdown",
   "metadata": {},
   "source": [
    "# 1. Entender el contenido de los archivos de datos\n",
    "\n",
    "Esta misión consiste en hacerse una idea general del contenido de los datos y seleccionar un segmento de ellos que tenga potencial para los análisis propuestos.\n",
    "\n",
    "Pautas generales:\n",
    "* Leer los archivos de datos y agregarlos según sea necesario.\n",
    "* Inspeccionar el archivo a partir de su encabezado, columnas, descripciones de las variables según su tipo (numéricas, categóricas).\n",
    "* Definir un sub-conjunto de variables (e.g., una lista) que puedan ser relevantes para la problemática de interés.\n",
    "\n",
    "Preguntas guía:\n",
    "* ¿Qué dimensiones tienen los datos?\n",
    "* ¿Con cuántos años y periodos de evaluación se cuenta?\n",
    "* ¿Cuáles variables pueden ser de interés para la problemática planteada?\n",
    "* ¿Qué porcentaje de datos faltantes o no válidos hay en las columnas de interés? ¿Podría eso afectar el análisis, y cómo abordarlo?\n",
    "\n",
    "Esta misión corresponde a trabajo interno del analista, por lo cual no tiene un entregable para el cliente. Como entregable, puedes generar un reporte básico sobre el contenido de los archivos de datos, ya sea a través de la impresión de mensajes, la presentación de tablas resumen, u otros."
   ]
  },
  {
   "cell_type": "code",
   "execution_count": 1,
   "metadata": {},
   "outputs": [],
   "source": [
    "import pandas as pd\n",
    "import numpy as np\n",
    "import csv\n",
    "import seaborn as sns\n",
    "#¿Con cuantos años y periodos de evaluación se cuenta?\n",
    "data20191 = pd.read_csv(\"Archivos/SB11_20191.TXT\", sep =\"¬\", engine='python')\n",
    "data20201 = pd.read_csv(\"Archivos/SB11_20201.TXT\", sep =\"¬\", engine='python')\n",
    "data20211= pd.read_csv(\"Archivos/SB11_20211.TXT\", sep =\"¬\", engine='python')\n"
   ]
  },
  {
   "cell_type": "code",
   "execution_count": 2,
   "metadata": {},
   "outputs": [
    {
     "name": "stdout",
     "output_type": "stream",
     "text": [
      "El número de filas de data20191 es 21083 y el número de columnas es 82\n",
      "El número de filas de data20201 es 15435 y el número de columnas es 81\n",
      "El número de filas de data20211 es 15528 y el número de columnas es 78\n",
      " \n",
      "PERIODO                     0.00\n",
      "ESTU_GENERO                 0.01\n",
      "FAMI_ESTRATOVIVIENDA        7.18\n",
      "FAMI_TIENEINTERNET          6.89\n",
      "ESTU_TIENEETNIA             4.75\n",
      "COLE_DEPTO_UBICACION        0.00\n",
      "PUNT_MATEMATICAS            0.00\n",
      "PUNT_C_NATURALES            0.00\n",
      "PUNT_SOCIALES_CIUDADANAS    0.00\n",
      "PUNT_INGLES                 0.16\n",
      "PUNT_GLOBAL                 0.00\n",
      "dtype: float64\n"
     ]
    },
    {
     "data": {
      "text/plain": [
       "<AxesSubplot:>"
      ]
     },
     "execution_count": 2,
     "metadata": {},
     "output_type": "execute_result"
    },
    {
     "data": {
      "image/png": "[encoded data removed]",
      "text/plain": [
       "<Figure size 432x288 with 1 Axes>"
      ]
     },
     "metadata": {
      "needs_background": "light"
     },
     "output_type": "display_data"
    }
   ],
   "source": [
    "#¿Que dimensiones tienen los datos\n",
    "print(\"El número de filas de data20191 es \" + str(len(data20191.index)) + \" y el número de columnas es \" + str(len(data20191.columns.values)))\n",
    "print(\"El número de filas de data20201 es \" + str(len(data20201.index)) + \" y el número de columnas es \" + str(len(data20201.columns.values)))\n",
    "print(\"El número de filas de data20211 es \" + str(len(data20211.index)) + \" y el número de columnas es \" + str(len(data20211.columns.values)))\n",
    "\n",
    "#¿Cuáles variables pueden ser de interés para la problemática planteada?\n",
    "\n",
    "data2019 = data20191.loc[:,['PERIODO', 'ESTU_GENERO','FAMI_ESTRATOVIVIENDA','FAMI_TIENEINTERNET','ESTU_TIENEETNIA',\n",
    "                            'COLE_DEPTO_UBICACION','PUNT_MATEMATICAS','PUNT_C_NATURALES','PUNT_SOCIALES_CIUDADANAS',\n",
    "                            'PUNT_INGLES','PUNT_GLOBAL']]\n",
    "data2020 = data20201.loc[:,['PERIODO', 'ESTU_GENERO','FAMI_ESTRATOVIVIENDA','FAMI_TIENEINTERNET','ESTU_TIENEETNIA',\n",
    "                            'COLE_DEPTO_UBICACION','PUNT_MATEMATICAS','PUNT_C_NATURALES','PUNT_SOCIALES_CIUDADANAS',\n",
    "                            'PUNT_INGLES','PUNT_GLOBAL']]\n",
    "data2021 = data20211.loc[:,['PERIODO', 'ESTU_GENERO','FAMI_ESTRATOVIVIENDA','FAMI_TIENEINTERNET','ESTU_TIENEETNIA',\n",
    "                            'COLE_DEPTO_UBICACION','PUNT_MATEMATICAS','PUNT_C_NATURALES','PUNT_SOCIALES_CIUDADANAS',\n",
    "                            'PUNT_INGLES','PUNT_GLOBAL']]\n",
    "\n",
    "data = pd.concat([data2019,data2020,data2021])\n",
    "\n",
    "data['COLE_DEPTO_UBICACION'] = data['COLE_DEPTO_UBICACION'].replace([\"BOGOTÁ\"],['BOGOTA'])\n",
    "data['PUNT_GLOBAL'] = data['PUNT_GLOBAL'].astype('float64')\n",
    "data['PERIODO'] = data['PERIODO'].astype('object')\n",
    "\n",
    "#¿Qué porcentaje de datos faltantes o no válidos hay en las columnas de interés? \n",
    "#¿Podría eso afectar el análisis, y cómo abordarlo?\n",
    "\n",
    "total_na = data.isna().sum()\n",
    "registros = data.shape[0]\n",
    "porcentaje = total_na/registros\n",
    "print(\" \")\n",
    "print(round(porcentaje*100,2))\n",
    "sns.heatmap(data.isnull(), cbar = False)\n"
   ]
  },
  {
   "cell_type": "code",
   "execution_count": 3,
   "metadata": {},
   "outputs": [
    {
     "data": {
      "image/png": "[encoded data removed]",
      "text/plain": [
       "<Figure size 432x288 with 1 Axes>"
      ]
     },
     "metadata": {
      "needs_background": "light"
     },
     "output_type": "display_data"
    }
   ],
   "source": [
    "#Tratamiento a los datos faltantes\n",
    "\n",
    "data['FAMI_ESTRATOVIVIENDA'].fillna(data['FAMI_ESTRATOVIVIENDA'].mode()[0], inplace=True)\n",
    "data['FAMI_TIENEINTERNET'].fillna(data['FAMI_TIENEINTERNET'].mode()[0], inplace=True)\n",
    "data['ESTU_TIENEETNIA'].fillna(data['ESTU_TIENEETNIA'].mode()[0], inplace=True)\n",
    "data['ESTU_GENERO'].fillna(data['ESTU_GENERO'].mode()[0], inplace=True)\n",
    "data['PUNT_INGLES'].fillna(data['PUNT_INGLES'].mode()[0], inplace=True)\n",
    "sns.heatmap(data.isnull(), cbar = False)\n",
    "data1 = data"
   ]
  },
  {
   "cell_type": "markdown",
   "metadata": {},
   "source": [
    "# Resumen mision 1\n",
    "En esta misión se realiza el cargue de los archivos de datos para los periodos 20191, 20201, 20211; sucesivamente se realiza la inspección de las dimensiones de los datos en número de columnas y filas con para cada unos de los periodos:\n",
    "\n",
    "Base periodo 20191 - Número de filas 21.083, número de columnas 82\n",
    "\n",
    "Base periodo 20201 - Número de filas 15.435, número de columnas 81\n",
    "\n",
    "Base periodo 20211 - Número de filas 15.528, número de columnas 78\n",
    "\n",
    "Se determinan que las variables de interes para la problematica planteada son: Periodo, Genero del estudiante, Puntaje global, Estrato de la vivienda familiar, Si vivienda familiar cuenta con internet, Si el estudiante pertenece a una etnia y Departamento de ubicación de colegio; Dada la homogeneidad en el número de registros en cada una de las variables, ya que los niveles de otras variables generan una acumulación en niveles especificos.\n",
    "\n",
    "Una vez seleccioadas las variables de interes se identifican los porcentajes de datos faltantes para cada una de las variables:\n",
    "\n",
    "Periodo 0.00%\n",
    "\n",
    "Genero del estudiante 0.01%\n",
    "\n",
    "Puntaje global 0.00%\n",
    "\n",
    "Estrato de la vivienda familiar 7.18%\n",
    "\n",
    "Si vivienda familiar cuenta con internet 6.89%\n",
    "\n",
    "Si el estudiante pertenece a una etnia 4.75%\n",
    "\n",
    "Departamento de ubicación de colegio 0.00%\n",
    "\n",
    "Dados el porcentaje de valores faltantes, se determina realizar la imputación de los mismos con la moda ya que para las variables no tienen más de una moda por lo tanto no se dificulta la interpretación.\n",
    "\n"
   ]
  },
  {
   "cell_type": "markdown",
   "metadata": {},
   "source": [
    "# 2. Identificar características y relaciones en las variables\n",
    "\n",
    "Esta misión consiste en utilizar análisis descriptivos para explorar patrones o relaciones en las variables de interés para la problemática planteada.\n",
    "\n",
    "Pautas generales:\n",
    "* Utilizar Matplotlib y/o Seaborn para inspeccionar visualmente variables de interés; los métodos `distplot`, `pairplot`, `boxplot`, o `violinplot`, entre otros, pueden ser de utilidad.\n",
    "* Utilizar el método `groupby` de Pandas, en conjunto con la visualización, para proveer evidencia sobre el impacto de variables socio-demográficas de interés sobre el desempeño de los estudiantes en la prueba.\n",
    "\n",
    "Preguntas guía:\n",
    "* ¿Hay patrones de interés en las distribuciones de las variables, o en las relaciones entre ellas?\n",
    "* ¿Existe algún impacto significativo de variables socio-demográficas en los puntajes globales o por área?\n",
    "* ¿Sobre cuáles variables vale la pena hacer un análisis más profundo?\n",
    "\n",
    "El entregable de esta misión es un reporte (p.ej., un conjunto de visualizaciones) que de cuenta de los comportamientos más interesantes que se observen en las variables de interés para el contexto propuesto. El propósito de esta exploración es generar hipótesis o preguntas que guíen análisis más profundos. En ese sentido, con base en lo aprendido en esta sección, identifique las tres preguntas analíticas que plantearía con mayor prioridad, teniendo en cuenta el contexto y los datos disponibles; estas preguntas NO se deben abordar en términos de código para el laboratorio (únicamente formularse)."
   ]
  },
  {
   "cell_type": "code",
   "execution_count": 4,
   "metadata": {},
   "outputs": [
    {
     "data": {
      "text/plain": [
       "<AxesSubplot:xlabel='COLE_DEPTO_UBICACION'>"
      ]
     },
     "execution_count": 4,
     "metadata": {},
     "output_type": "execute_result"
    },
    {
     "data": {
      "image/png": "[encoded data removed]",
      "text/plain": [
       "<Figure size 432x288 with 1 Axes>"
      ]
     },
     "metadata": {
      "needs_background": "light"
     },
     "output_type": "display_data"
    }
   ],
   "source": [
    "import matplotlib.pyplot as plt\n",
    "from matplotlib import style\n",
    "\n",
    "df = round(data.groupby('COLE_DEPTO_UBICACION')['PUNT_GLOBAL'].mean(),2)\n",
    "df = df.sort_values()\n",
    "\n",
    "df.plot(kind = \"bar\")\n"
   ]
  },
  {
   "cell_type": "code",
   "execution_count": 5,
   "metadata": {},
   "outputs": [
    {
     "data": {
      "text/html": [
       "<div>\n",
       "<style scoped>\n",
       "    .dataframe tbody tr th:only-of-type {\n",
       "        vertical-align: middle;\n",
       "    }\n",
       "\n",
       "    .dataframe tbody tr th {\n",
       "        vertical-align: top;\n",
       "    }\n",
       "\n",
       "    .dataframe thead th {\n",
       "        text-align: right;\n",
       "    }\n",
       "</style>\n",
       "<table border=\"1\" class=\"dataframe\">\n",
       "  <thead>\n",
       "    <tr style=\"text-align: right;\">\n",
       "      <th>dummy_media</th>\n",
       "      <th>0</th>\n",
       "      <th>1</th>\n",
       "      <th>All</th>\n",
       "    </tr>\n",
       "    <tr>\n",
       "      <th>FAMI_TIENEINTERNET</th>\n",
       "      <th></th>\n",
       "      <th></th>\n",
       "      <th></th>\n",
       "    </tr>\n",
       "  </thead>\n",
       "  <tbody>\n",
       "    <tr>\n",
       "      <th>No</th>\n",
       "      <td>3208</td>\n",
       "      <td>331</td>\n",
       "      <td>3539</td>\n",
       "    </tr>\n",
       "    <tr>\n",
       "      <th>Si</th>\n",
       "      <td>20895</td>\n",
       "      <td>27612</td>\n",
       "      <td>48507</td>\n",
       "    </tr>\n",
       "    <tr>\n",
       "      <th>All</th>\n",
       "      <td>24103</td>\n",
       "      <td>27943</td>\n",
       "      <td>52046</td>\n",
       "    </tr>\n",
       "  </tbody>\n",
       "</table>\n",
       "</div>"
      ],
      "text/plain": [
       "dummy_media             0      1    All\n",
       "FAMI_TIENEINTERNET                     \n",
       "No                   3208    331   3539\n",
       "Si                  20895  27612  48507\n",
       "All                 24103  27943  52046"
      ]
     },
     "execution_count": 5,
     "metadata": {},
     "output_type": "execute_result"
    }
   ],
   "source": [
    "media = data['PUNT_GLOBAL'].mean()\n",
    "data['dummy_media'] = [1 if x > media else 0 for x in data['PUNT_GLOBAL'] ]\n",
    "pd.crosstab(index = data['FAMI_TIENEINTERNET'], columns = data['dummy_media'], margins = True)"
   ]
  },
  {
   "cell_type": "code",
   "execution_count": 6,
   "metadata": {},
   "outputs": [
    {
     "data": {
      "text/html": [
       "<div>\n",
       "<style scoped>\n",
       "    .dataframe tbody tr th:only-of-type {\n",
       "        vertical-align: middle;\n",
       "    }\n",
       "\n",
       "    .dataframe tbody tr th {\n",
       "        vertical-align: top;\n",
       "    }\n",
       "\n",
       "    .dataframe thead th {\n",
       "        text-align: right;\n",
       "    }\n",
       "</style>\n",
       "<table border=\"1\" class=\"dataframe\">\n",
       "  <thead>\n",
       "    <tr style=\"text-align: right;\">\n",
       "      <th>FAMI_ESTRATOVIVIENDA</th>\n",
       "      <th>Estrato 1</th>\n",
       "      <th>Estrato 2</th>\n",
       "      <th>Estrato 3</th>\n",
       "      <th>Estrato 4</th>\n",
       "      <th>Estrato 5</th>\n",
       "      <th>Estrato 6</th>\n",
       "      <th>Sin Estrato</th>\n",
       "      <th>All</th>\n",
       "    </tr>\n",
       "    <tr>\n",
       "      <th>FAMI_TIENEINTERNET</th>\n",
       "      <th></th>\n",
       "      <th></th>\n",
       "      <th></th>\n",
       "      <th></th>\n",
       "      <th></th>\n",
       "      <th></th>\n",
       "      <th></th>\n",
       "      <th></th>\n",
       "    </tr>\n",
       "  </thead>\n",
       "  <tbody>\n",
       "    <tr>\n",
       "      <th>No</th>\n",
       "      <td>1467</td>\n",
       "      <td>1215</td>\n",
       "      <td>539</td>\n",
       "      <td>103</td>\n",
       "      <td>41</td>\n",
       "      <td>25</td>\n",
       "      <td>149</td>\n",
       "      <td>3539</td>\n",
       "    </tr>\n",
       "    <tr>\n",
       "      <th>Si</th>\n",
       "      <td>1872</td>\n",
       "      <td>6963</td>\n",
       "      <td>14832</td>\n",
       "      <td>9360</td>\n",
       "      <td>7856</td>\n",
       "      <td>7169</td>\n",
       "      <td>455</td>\n",
       "      <td>48507</td>\n",
       "    </tr>\n",
       "    <tr>\n",
       "      <th>All</th>\n",
       "      <td>3339</td>\n",
       "      <td>8178</td>\n",
       "      <td>15371</td>\n",
       "      <td>9463</td>\n",
       "      <td>7897</td>\n",
       "      <td>7194</td>\n",
       "      <td>604</td>\n",
       "      <td>52046</td>\n",
       "    </tr>\n",
       "  </tbody>\n",
       "</table>\n",
       "</div>"
      ],
      "text/plain": [
       "FAMI_ESTRATOVIVIENDA  Estrato 1  Estrato 2  Estrato 3  Estrato 4  Estrato 5  \\\n",
       "FAMI_TIENEINTERNET                                                            \n",
       "No                         1467       1215        539        103         41   \n",
       "Si                         1872       6963      14832       9360       7856   \n",
       "All                        3339       8178      15371       9463       7897   \n",
       "\n",
       "FAMI_ESTRATOVIVIENDA  Estrato 6  Sin Estrato    All  \n",
       "FAMI_TIENEINTERNET                                   \n",
       "No                           25          149   3539  \n",
       "Si                         7169          455  48507  \n",
       "All                        7194          604  52046  "
      ]
     },
     "execution_count": 6,
     "metadata": {},
     "output_type": "execute_result"
    }
   ],
   "source": [
    "pd.crosstab(index = data['FAMI_TIENEINTERNET'], columns = data['FAMI_ESTRATOVIVIENDA'], margins = True)"
   ]
  },
  {
   "cell_type": "code",
   "execution_count": 7,
   "metadata": {},
   "outputs": [
    {
     "data": {
      "image/png": "[encoded data removed]",
      "text/plain": [
       "<Figure size 432x432 with 1 Axes>"
      ]
     },
     "metadata": {},
     "output_type": "display_data"
    }
   ],
   "source": [
    "plot = data['FAMI_ESTRATOVIVIENDA'].value_counts().plot(kind='pie', autopct='%.2f', \n",
    "                                            figsize=(6, 6),\n",
    "                                            title='Estratos')"
   ]
  },
  {
   "cell_type": "code",
   "execution_count": 8,
   "metadata": {},
   "outputs": [
    {
     "data": {
      "text/html": [
       "<div>\n",
       "<style scoped>\n",
       "    .dataframe tbody tr th:only-of-type {\n",
       "        vertical-align: middle;\n",
       "    }\n",
       "\n",
       "    .dataframe tbody tr th {\n",
       "        vertical-align: top;\n",
       "    }\n",
       "\n",
       "    .dataframe thead th {\n",
       "        text-align: right;\n",
       "    }\n",
       "</style>\n",
       "<table border=\"1\" class=\"dataframe\">\n",
       "  <thead>\n",
       "    <tr style=\"text-align: right;\">\n",
       "      <th>dummy_media</th>\n",
       "      <th>0</th>\n",
       "      <th>1</th>\n",
       "      <th>All</th>\n",
       "    </tr>\n",
       "    <tr>\n",
       "      <th>FAMI_ESTRATOVIVIENDA</th>\n",
       "      <th></th>\n",
       "      <th></th>\n",
       "      <th></th>\n",
       "    </tr>\n",
       "  </thead>\n",
       "  <tbody>\n",
       "    <tr>\n",
       "      <th>Estrato 1</th>\n",
       "      <td>5.568151</td>\n",
       "      <td>0.847327</td>\n",
       "      <td>6.415479</td>\n",
       "    </tr>\n",
       "    <tr>\n",
       "      <th>Estrato 2</th>\n",
       "      <td>11.551320</td>\n",
       "      <td>4.161703</td>\n",
       "      <td>15.713023</td>\n",
       "    </tr>\n",
       "    <tr>\n",
       "      <th>Estrato 3</th>\n",
       "      <td>17.822695</td>\n",
       "      <td>11.710794</td>\n",
       "      <td>29.533490</td>\n",
       "    </tr>\n",
       "    <tr>\n",
       "      <th>Estrato 4</th>\n",
       "      <td>5.679591</td>\n",
       "      <td>12.502402</td>\n",
       "      <td>18.181993</td>\n",
       "    </tr>\n",
       "    <tr>\n",
       "      <th>Estrato 5</th>\n",
       "      <td>3.078046</td>\n",
       "      <td>12.095070</td>\n",
       "      <td>15.173116</td>\n",
       "    </tr>\n",
       "    <tr>\n",
       "      <th>Estrato 6</th>\n",
       "      <td>1.961726</td>\n",
       "      <td>11.860662</td>\n",
       "      <td>13.822388</td>\n",
       "    </tr>\n",
       "    <tr>\n",
       "      <th>Sin Estrato</th>\n",
       "      <td>0.649426</td>\n",
       "      <td>0.511086</td>\n",
       "      <td>1.160512</td>\n",
       "    </tr>\n",
       "    <tr>\n",
       "      <th>All</th>\n",
       "      <td>46.310956</td>\n",
       "      <td>53.689044</td>\n",
       "      <td>100.000000</td>\n",
       "    </tr>\n",
       "  </tbody>\n",
       "</table>\n",
       "</div>"
      ],
      "text/plain": [
       "dummy_media                   0          1         All\n",
       "FAMI_ESTRATOVIVIENDA                                  \n",
       "Estrato 1              5.568151   0.847327    6.415479\n",
       "Estrato 2             11.551320   4.161703   15.713023\n",
       "Estrato 3             17.822695  11.710794   29.533490\n",
       "Estrato 4              5.679591  12.502402   18.181993\n",
       "Estrato 5              3.078046  12.095070   15.173116\n",
       "Estrato 6              1.961726  11.860662   13.822388\n",
       "Sin Estrato            0.649426   0.511086    1.160512\n",
       "All                   46.310956  53.689044  100.000000"
      ]
     },
     "execution_count": 8,
     "metadata": {},
     "output_type": "execute_result"
    }
   ],
   "source": [
    "pd.crosstab(index = data['FAMI_ESTRATOVIVIENDA'], columns = data['dummy_media'], margins = True).apply(lambda x: x/len(data)*100, axis = 1)"
   ]
  },
  {
   "cell_type": "code",
   "execution_count": 9,
   "metadata": {},
   "outputs": [
    {
     "data": {
      "image/png": "[encoded data removed]",
      "text/plain": [
       "<Figure size 432x288 with 1 Axes>"
      ]
     },
     "metadata": {
      "needs_background": "light"
     },
     "output_type": "display_data"
    }
   ],
   "source": [
    "genero = sns.boxplot( x = \"ESTU_GENERO\", y = \"PUNT_GLOBAL\", data = data,palette=\"Pastel1\")"
   ]
  },
  {
   "cell_type": "code",
   "execution_count": 10,
   "metadata": {},
   "outputs": [
    {
     "data": {
      "image/png": "[encoded data removed]",
      "text/plain": [
       "<Figure size 432x288 with 1 Axes>"
      ]
     },
     "metadata": {
      "needs_background": "light"
     },
     "output_type": "display_data"
    }
   ],
   "source": [
    "internet = sns.boxplot( x = \"FAMI_TIENEINTERNET\", y = \"PUNT_GLOBAL\", data = data,palette=\"Pastel1\")"
   ]
  },
  {
   "cell_type": "code",
   "execution_count": 11,
   "metadata": {},
   "outputs": [
    {
     "data": {
      "image/png": "[encoded data removed]",
      "text/plain": [
       "<Figure size 432x288 with 1 Axes>"
      ]
     },
     "metadata": {
      "needs_background": "light"
     },
     "output_type": "display_data"
    }
   ],
   "source": [
    "internet = sns.boxplot( x = \"ESTU_TIENEETNIA\", y = \"PUNT_GLOBAL\", data = data,palette=\"Pastel1\")"
   ]
  },
  {
   "cell_type": "markdown",
   "metadata": {},
   "source": [
    "# Resumen misión 2\n",
    "En esta misión se realiza inicialmente un gráficos de barras donde se evidencia que la media del puntaje global es menor para los departamentos de Choco, Guainía, Caquetá, Meta y Arauca a diferencia de los departamentos Quindío, Bolívar y Atlántico quienes en promedio el puntaje global es mayor, por otra parte se crea una variable dummy_media donde toma el valor de 1 para los casos en que el puntaje global sea mayor a la media y 0 de lo contrario, con esta medida se crea una tabla que nos muestra que de los 3.539 estudiantes que no tienen internet en su vivienda familiar, 3.208 estudiantes están por debajo de la media y solo 331 estudiantes tienen un puntaje global por encima de la media, continuando con el apoyo de esta variable se identifica que el porcentaje de estudiantes que pertenecen al estrato 1, 2 y 3 y que tienen un Puntaje Global inferior al de la media de mayor al que tiene un puntaje superior a la media y a partir del estrato 4 a 6 es mayor el porcentaje de estudiantes que tiene un puntaje superior al de la media respecto a los que no., por otro lado al generar el boxplot por genero al parecer no hay una diferencia sustancial entre el genero y el puntaje global sin embargo al realizar este mismo grafico con los estudiantes que cuentan internet en su vivienda familiar al parecer existe una diferencia entre los que cuenta con internet en su vivienda familiar y los que no, así mismo sucede con la etnia.\n"
   ]
  },
  {
   "cell_type": "markdown",
   "metadata": {},
   "source": [
    "# 3. Abordar preguntas de negocio planteadas\n",
    "\n",
    "Esta misión consiste en proponer, implementar y evaluar el desempeño modelo(s) que busque(n) explicar las relaciones entre factores socio-demográficos y desempeño en la prueba.\n",
    "\n",
    "Pautas generales:\n",
    "* Seleccionar variables y proponer modelos acordes a dichas variables y al contexto del problema.\n",
    "* Utilizar los paquetes StatsModels y Scikit Learn para indagar sobre los aspectos que contribuyen al éxito de los estudiantes. Particularmente, las clases correspondientes a regresión lineal y regresión logística, entre otras, pueden ser útiles.\n",
    "* Utilizar las métricas de evaluación de desempeño (disponibles en los paquetes mencionados), para concluir sobre la validez de los modelos propuestos.\n",
    "\n",
    "Preguntas guía:\n",
    "* ¿Existe algún sub-conjunto de variables socio-demográficas que explique razonablemente bien el desempeño de los estudiantes en la prueba?\n",
    "* Definiendo como \"estudiante en riesgo\" a quien tenga un puntaje por debajo del percentil $\\alpha$ en más de la mitad de las áreas de la prueba, ¿cuáles variables socio-demográficas permitirían \"predecir\" si un estudiante pertenecerá a dicho grupo?\n",
    "\n",
    "El entregable de esta misión es un reporte sobre el desempeño de los modelos propuestos para abordar al menos una de las preguntas guía planteadas, acompañado de una conclusión sobre los resultados del modelo (si son válidos) en el contexto de la problemática planteada."
   ]
  },
  {
   "cell_type": "code",
   "execution_count": 12,
   "metadata": {},
   "outputs": [],
   "source": [
    "data =data.drop(['dummy_media'], axis = 1)\n",
    "data =data.drop(['COLE_DEPTO_UBICACION'], axis = 1)"
   ]
  },
  {
   "cell_type": "code",
   "execution_count": 13,
   "metadata": {},
   "outputs": [
    {
     "name": "stdout",
     "output_type": "stream",
     "text": [
      "1    75.692656\n",
      "0    24.307344\n",
      "Name: Percentil_75, dtype: float64\n"
     ]
    }
   ],
   "source": [
    "from sklearn.linear_model import LogisticRegression\n",
    "from sklearn.model_selection import train_test_split\n",
    "from sklearn.metrics import accuracy_score\n",
    "\n",
    "percentil = np.percentile(data['PUNT_GLOBAL'], 75)\n",
    "data['Percentil_75'] = [0 if x > percentil else 1 for x in data['PUNT_GLOBAL'] ]\n",
    "print(100*data['Percentil_75'].value_counts(normalize = True))"
   ]
  },
  {
   "cell_type": "markdown",
   "metadata": {},
   "source": [
    "Se define la variable Percentil_75 donde toma el valor de 1 si el puntaje global del estudiantes es inferior al percentil 75 y 0 de lo contrario. El 24.30% de los estudiantes supera el percentil 75 del puntaje global y el 75.70% de los estudiantes están por debajo del percentil 75 del puntaje global lo que clasificaria como un estudiante en riesgo"
   ]
  },
  {
   "cell_type": "code",
   "execution_count": 43,
   "metadata": {},
   "outputs": [
    {
     "name": "stderr",
     "output_type": "stream",
     "text": [
      "C:\\ProgramData\\Anaconda3\\lib\\site-packages\\sklearn\\utils\\validation.py:63: DataConversionWarning:\n",
      "\n",
      "A column-vector y was passed when a 1d array was expected. Please change the shape of y to (n_samples, ), for example using ravel().\n",
      "\n",
      "C:\\ProgramData\\Anaconda3\\lib\\site-packages\\sklearn\\linear_model\\_logistic.py:763: ConvergenceWarning:\n",
      "\n",
      "lbfgs failed to converge (status=1):\n",
      "STOP: TOTAL NO. of ITERATIONS REACHED LIMIT.\n",
      "\n",
      "Increase the number of iterations (max_iter) or scale the data as shown in:\n",
      "    https://scikit-learn.org/stable/modules/preprocessing.html\n",
      "Please also refer to the documentation for alternative solver options:\n",
      "    https://scikit-learn.org/stable/modules/linear_model.html#logistic-regression\n",
      "\n"
     ]
    }
   ],
   "source": [
    "data['ESTU_GENERO'] = [1 if x == 'F' else 0 for x in data['ESTU_GENERO'] ]\n",
    "data['ESTU_TIENEETNIA'] = [1 if x == 'Si' else 0 for x in data['ESTU_TIENEETNIA'] ]\n",
    "data['FAMI_TIENEINTERNET'] = [1 if x == 'Si' else 0 for x in data['ESTU_TIENEETNIA'] ]\n",
    "\n",
    "data.loc[(data['FAMI_ESTRATOVIVIENDA']==\"Sin Estrato\"), 'FAMI_ESTRATOVIVIENDA'] = 0\n",
    "data.loc[(data['FAMI_ESTRATOVIVIENDA']==\"Estrato 1\"), 'FAMI_ESTRATOVIVIENDA'] = 1\n",
    "data.loc[(data['FAMI_ESTRATOVIVIENDA']==\"Estrato 2\"), 'FAMI_ESTRATOVIVIENDA'] = 2\n",
    "data.loc[(data['FAMI_ESTRATOVIVIENDA']==\"Estrato 3\"), 'FAMI_ESTRATOVIVIENDA'] = 3\n",
    "data.loc[(data['FAMI_ESTRATOVIVIENDA']==\"Estrato 4\"), 'FAMI_ESTRATOVIVIENDA'] = 4\n",
    "data.loc[(data['FAMI_ESTRATOVIVIENDA']==\"Estrato 5\"), 'FAMI_ESTRATOVIVIENDA'] = 5\n",
    "data.loc[(data['FAMI_ESTRATOVIVIENDA']==\"Estrato 6\"), 'FAMI_ESTRATOVIVIENDA'] = 6\n",
    "\n",
    "\n",
    "X = data.drop(columns = 'Percentil_75')\n",
    "y = data['Percentil_75']\n",
    "\n",
    "X_train, X_test, y_train, y_test = train_test_split(\n",
    "                                        X,\n",
    "                                        y.values.reshape(-1,1),\n",
    "                                        train_size   = 0.8,\n",
    "                                        random_state = 42,\n",
    "                                        shuffle      = True\n",
    "                                    )\n",
    "\n",
    "modelo = LogisticRegression()\n",
    "\n",
    "# Entrenamos el modelo\n",
    "modelo.fit(X_train, y_train)\n",
    "\n",
    "# Utilizamos el modelo para predecir\n",
    "y_pred = modelo.predict(X_test)\n"
   ]
  },
  {
   "cell_type": "code",
   "execution_count": 15,
   "metadata": {},
   "outputs": [
    {
     "data": {
      "text/plain": [
       "1.0"
      ]
     },
     "execution_count": 15,
     "metadata": {},
     "output_type": "execute_result"
    }
   ],
   "source": [
    "modelo.score(X_test, y_test)"
   ]
  },
  {
   "cell_type": "markdown",
   "metadata": {},
   "source": [
    "# 4. Desarrollar una herramienta interactiva de análisis\n",
    "\n",
    "Esta misión consiste en desarrollar una herramienta interactiva sencilla (que sea relevante en el contexto del problema) a partir de alguno de los análisis realizados en las secciones 2 o 3.\n",
    "\n",
    "Pautas generales:\n",
    "* Seleccionar uno de los análisis previos que pueda verse enriquecido con alguna característica de interactividad.\n",
    "* Seleccionar los parámetros que el usuario podrá cambiar.\n",
    "* Desarrollar las funciones que se deben ejecutar con cada acción del usuario.\n",
    "* Utilizar los paquetes `ipywidgets` o `panel` para implementar la herramienta.\n",
    "\n",
    "Pregunta guía:\n",
    "* ¿Cuál(es) es la pregunta que el usuario podrá hacerle a la herramienta, y cómo aporta al análisis?\n",
    "* ¿Qué aprendizajes clave puede explorar u obtener el usuario con esta herramienta basada en los datos?\n",
    "\n",
    "El entregable de esta misión es la herramienta implementada, acompañada de las instrucciones necesarias para que un usuario la pueda utilizar."
   ]
  },
  {
   "cell_type": "code",
   "execution_count": 26,
   "metadata": {},
   "outputs": [],
   "source": [
    "import panel as pn\n",
    "import ipywidgets as widgets\n",
    "from ipywidgets import interactive\n",
    "import plotly.graph_objects as go"
   ]
  },
  {
   "cell_type": "code",
   "execution_count": 44,
   "metadata": {},
   "outputs": [],
   "source": [
    "data1['COLE_DEPTO_UBICACION'].unique()\n",
    "data1.loc[(data1['FAMI_ESTRATOVIVIENDA']==\"Sin Estrato\"), 'FAMI_ESTRATOVIVIENDA'] = 0\n",
    "data1.loc[(data1['FAMI_ESTRATOVIVIENDA']==\"Estrato 1\"), 'FAMI_ESTRATOVIVIENDA'] = 1\n",
    "data1.loc[(data1['FAMI_ESTRATOVIVIENDA']==\"Estrato 2\"), 'FAMI_ESTRATOVIVIENDA'] = 2\n",
    "data1.loc[(data1['FAMI_ESTRATOVIVIENDA']==\"Estrato 3\"), 'FAMI_ESTRATOVIVIENDA'] = 3\n",
    "data1.loc[(data1['FAMI_ESTRATOVIVIENDA']==\"Estrato 4\"), 'FAMI_ESTRATOVIVIENDA'] = 4\n",
    "data1.loc[(data1['FAMI_ESTRATOVIVIENDA']==\"Estrato 5\"), 'FAMI_ESTRATOVIVIENDA'] = 5\n",
    "data1.loc[(data1['FAMI_ESTRATOVIVIENDA']==\"Estrato 6\"), 'FAMI_ESTRATOVIVIENDA'] = 6\n",
    "estrato = widgets.IntSlider(min = 1.0, max = 6.0, step = 1.0)\n",
    "genero = widgets.Dropdown(\n",
    "                        description = 'Genero:',\n",
    "                        options = data1['ESTU_GENERO'].unique().tolist(),\n",
    "                        style = {'description_width': 'initial'}       # Mostrar el nombre completo.\n",
    "                       )\n",
    "Departamento = widgets.Dropdown(\n",
    "                            description = 'Departamento:',\n",
    "                            options = data1['COLE_DEPTO_UBICACION'].unique().tolist(),\n",
    "                            style = {'description_width': 'initial'}                    # Mostrar el nombre completo.\n",
    "                         )\n",
    "fig = go.FigureWidget(\n",
    "                        data = go.Histogram(name = 'Puntaje Global'),  \n",
    "    \n",
    "                        layout = go.Layout(\n",
    "                                            title = 'Pruebas Saber 11',\n",
    "                                            xaxis_title = 'Puntaje Global',\n",
    "                                            yaxis_title = 'Estrato',\n",
    "                                          )\n",
    "                     )"
   ]
  },
  {
   "cell_type": "code",
   "execution_count": 46,
   "metadata": {},
   "outputs": [],
   "source": [
    "def filtrar():\n",
    "    filtrar_lista = [i and j and k for i, j, k in zip(\n",
    "                                                        data1['FAMI_ESTRATOVIVIENDA'] >= estrato.value, \n",
    "                                                        data1['ESTU_GENERO'] == genero.value,\n",
    "                                                        data1['COLE_DEPTO_UBICACION'] == Departamento.value\n",
    "                                                     )\n",
    "                    ]\n",
    "    \n",
    "    data_temporal = data[filtrar_lista]\n",
    "    fig.data[0].x = data_temporal['PUNT_GLOBAL'] # Establecemos los datos en el eje x.\n",
    "def respuesta(change):\n",
    "    filtrar()\n",
    "\n"
   ]
  },
  {
   "cell_type": "code",
   "execution_count": 49,
   "metadata": {},
   "outputs": [],
   "source": [
    "Departamento.observe(respuesta, names = 'value')\n",
    "genero.observe(respuesta, names = 'value')\n",
    "estrato.observe(respuesta, names = 'value')\n",
    "filtrar()\n",
    "parte_superior = widgets.HBox([widgets.Label('Puntaje para estrato:'), estrato])"
   ]
  },
  {
   "cell_type": "code",
   "execution_count": 50,
   "metadata": {},
   "outputs": [],
   "source": [
    "parte_inferior = widgets.HBox([Departamento, genero])\n",
    "visualizacion = widgets.VBox(\n",
    "              [parte_superior,\n",
    "              parte_inferior,\n",
    "              fig]\n",
    "            )"
   ]
  },
  {
   "cell_type": "code",
   "execution_count": 51,
   "metadata": {},
   "outputs": [
    {
     "data": {
      "application/vnd.jupyter.widget-view+json": {
       "model_id": "eccaea7427684948acce933e2e41d3bd",
       "version_major": 2,
       "version_minor": 0
      },
      "text/plain": [
       "VBox(children=(HBox(children=(Label(value='Puntaje para estrato:'), IntSlider(value=1, max=6, min=1))), HBox(c…"
      ]
     },
     "metadata": {},
     "output_type": "display_data"
    }
   ],
   "source": [
    "display(visualizacion)"
   ]
  },
  {
   "cell_type": "code",
   "execution_count": null,
   "metadata": {},
   "outputs": [],
   "source": []
  }
 ],
 "metadata": {
  "kernelspec": {
   "display_name": "Python 3",
   "language": "python",
   "name": "python3"
  },
  "language_info": {
   "codemirror_mode": {
    "name": "ipython",
    "version": 3
   },
   "file_extension": ".py",
   "mimetype": "text/x-python",
   "name": "python",
   "nbconvert_exporter": "python",
   "pygments_lexer": "ipython3",
   "version": "3.8.8"
  }
 },
 "nbformat": 4,
 "nbformat_minor": 2
}
